{
  "nbformat": 4,
  "nbformat_minor": 0,
  "metadata": {
    "colab": {
      "provenance": []
    },
    "kernelspec": {
      "name": "python3",
      "display_name": "Python 3"
    },
    "language_info": {
      "name": "python"
    }
  },
  "cells": [
    {
      "cell_type": "code",
      "execution_count": 9,
      "metadata": {
        "id": "rWB5kbismy4N"
      },
      "outputs": [],
      "source": [
        "with open(\"counter.txt\",\"w\") as f:\n",
        "  f.write(\"0\")"
      ]
    },
    {
      "cell_type": "code",
      "source": [
        "!pip install lockfile\n"
      ],
      "metadata": {
        "id": "k5JZqCEYqIpn"
      },
      "execution_count": null,
      "outputs": []
    },
    {
      "cell_type": "code",
      "source": [
        "import threading\n",
        "imporf lock"
      ],
      "metadata": {
        "id": "Zq6f0azDoLtO"
      },
      "execution_count": null,
      "outputs": []
    },
    {
      "cell_type": "code",
      "source": [
        "lock  = threading.Lock()\n",
        "def increase_counter(amount:int):\n",
        "  with lock:\n",
        "    for _ in range(amount):\n",
        "      with open(\"counter.txt\") as f:\n",
        "        current = int(f.read())\n",
        "      incre = current + 1\n",
        "      with open(\"counter.txt\",\"w\") as f:\n",
        "        f.write(str(incre))"
      ],
      "metadata": {
        "id": "kCMxavBNm8Mn"
      },
      "execution_count": 8,
      "outputs": []
    },
    {
      "cell_type": "code",
      "source": [
        "increase_counter(100)"
      ],
      "metadata": {
        "id": "vZQqZp7rnl3z"
      },
      "execution_count": 4,
      "outputs": []
    },
    {
      "cell_type": "code",
      "source": [
        "for _ in range(15):\n",
        "  threading.Thread(target=increase_counter,args=(10,)).start()"
      ],
      "metadata": {
        "id": "R2-upmvCnnVg"
      },
      "execution_count": 10,
      "outputs": []
    },
    {
      "cell_type": "code",
      "source": [],
      "metadata": {
        "id": "-BmwPZ1Xn7t5"
      },
      "execution_count": null,
      "outputs": []
    },
    {
      "cell_type": "code",
      "source": [],
      "metadata": {
        "id": "YzxsHni7qDvs"
      },
      "execution_count": null,
      "outputs": []
    }
  ]
}
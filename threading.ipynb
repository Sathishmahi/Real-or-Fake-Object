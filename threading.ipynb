{
  "nbformat": 4,
  "nbformat_minor": 0,
  "metadata": {
    "colab": {
      "provenance": []
    },
    "kernelspec": {
      "name": "python3",
      "display_name": "Python 3"
    },
    "language_info": {
      "name": "python"
    }
  },
  "cells": [
    {
      "cell_type": "markdown",
      "source": [
        "## **Downloading Files:**\n",
        "\n",
        "Downloading files from the internet is often an I/O-bound operation. It involves waiting for data to be received from external servers. In this case, using threading is a suitable choice for concurrency. Multiple threads can efficiently handle concurrent I/O operations, such as downloading files, without the need for true parallelism.\n",
        "\n",
        "## **Training ML Models or Heavy Math Calculations:**\n",
        "\n",
        " Training machine learning models or performing heavy mathematical calculations is typically CPU-bound. These operations involve intense computation and can benefit from parallelism to leverage multiple CPU cores effectively. In such cases, using multiprocessing to run tasks in parallel processes is a suitable choice to achieve true parallel execution and improve performance."
      ],
      "metadata": {
        "id": "J0RV9Q4QPjhY"
      }
    },
    {
      "cell_type": "code",
      "execution_count": 1,
      "metadata": {
        "id": "ygKqloZIF5pr"
      },
      "outputs": [],
      "source": [
        "import threading\n",
        "import time"
      ]
    },
    {
      "cell_type": "code",
      "source": [
        "b = False\n",
        "\n",
        "def worker():\n",
        "  counter = 1\n",
        "  while not b:\n",
        "    time.sleep(1)\n",
        "    counter =  counter + 1\n",
        "    print(f\"counter {counter}\")"
      ],
      "metadata": {
        "id": "bo6yy6SGF_xf"
      },
      "execution_count": 12,
      "outputs": []
    },
    {
      "cell_type": "code",
      "source": [
        "worker()\n",
        "## this input take input until worker function to finish the job because two all functions run only main thread\n",
        "input(\"enter to quit:\")"
      ],
      "metadata": {
        "id": "oS7T7BqKGmxm"
      },
      "execution_count": null,
      "outputs": []
    },
    {
      "cell_type": "code",
      "source": [
        "threading.Thread(target=worker).start()\n",
        "input(\"enter to quit:\")\n",
        "# b = True"
      ],
      "metadata": {
        "colab": {
          "base_uri": "https://localhost:8080/",
          "height": 105
        },
        "id": "G1T8uxq7HIoS",
        "outputId": "b80bc77f-fe62-4c26-d7cc-2aa63432088e"
      },
      "execution_count": 13,
      "outputs": [
        {
          "output_type": "stream",
          "name": "stdout",
          "text": [
            "counter 2\n",
            "counter 3\n",
            "enter to quit:\n",
            "counter 4\n"
          ]
        },
        {
          "output_type": "execute_result",
          "data": {
            "text/plain": [
              "''"
            ],
            "application/vnd.google.colaboratory.intrinsic+json": {
              "type": "string"
            }
          },
          "metadata": {},
          "execution_count": 13
        }
      ]
    },
    {
      "cell_type": "code",
      "source": [
        "threading.Thread(target=worker,daemon=True).start()\n",
        "input(\"enter to quit:\")\n",
        "# b = True\n",
        "### deamon thread it is  another kind of thread it is automatically terminate if all function or work is finish\n",
        "### in the case we don't change the b value into True but worker function automatically terminate beacuse this function is daemon function"
      ],
      "metadata": {
        "id": "J6gfdLSqIe8M"
      },
      "execution_count": null,
      "outputs": []
    },
    {
      "cell_type": "code",
      "source": [
        "start = time.perf_counter()\n",
        "def do_somthing():\n",
        "  print(\"sleep 1 sec  \")\n",
        "  time.sleep(1)\n",
        "  print(\"finish fun\")\n",
        "\n",
        "t1 = threading.Thread(target=do_somthing)\n",
        "t2 = threading.Thread(target=do_somthing)\n",
        "t1.start()\n",
        "t2.start()\n",
        "t1.join()\n",
        "t2.join()\n",
        "end = time.perf_counter()\n",
        "print(f\"script finish {end-start}\")"
      ],
      "metadata": {
        "colab": {
          "base_uri": "https://localhost:8080/"
        },
        "id": "WDbPBSi6Q9pI",
        "outputId": "fb86cd30-3576-438c-dc05-38cc330b1625"
      },
      "execution_count": 16,
      "outputs": [
        {
          "output_type": "stream",
          "name": "stdout",
          "text": [
            "sleep 1 sec  \n",
            "sleep 1 sec  \n",
            "counter 2331\n",
            "finish fun\n",
            "finish fun\n",
            "script finish 1.0037593530000777\n",
            "counter 2332\n"
          ]
        }
      ]
    },
    {
      "cell_type": "code",
      "source": [
        "[threading.Thread(target=do_somthing) for _ in range(10)]"
      ],
      "metadata": {
        "id": "JeMW5-CDThVZ"
      },
      "execution_count": null,
      "outputs": []
    },
    {
      "cell_type": "code",
      "source": [
        "start = time.perf_counter()\n",
        "def do_somthing(sec):\n",
        "  print(\"sleep {} sec \".format(sec))\n",
        "  time.sleep(sec)\n",
        "  return (\"finish fun {}\".format(sec))\n",
        "\n",
        "# t1 = threading.Thread(target=do_somthing)\n",
        "# t2 = threading.Thread(target=do_somthing)\n",
        "# t1.start()\n",
        "# t2.start()\n",
        "# t1.join()\n",
        "# t2.join()\n",
        "\n",
        "threads =  []\n",
        "for _ in range(10):\n",
        "  t = threading.Thread(target=do_somthing,args=[2])\n",
        "  t.start()\n",
        "  threads.append(t)\n",
        "\n",
        "for t in threads:\n",
        "  t.join()\n",
        "end = time.perf_counter()\n",
        "print(f\"script finish {end-start}\")"
      ],
      "metadata": {
        "colab": {
          "base_uri": "https://localhost:8080/"
        },
        "id": "FFPSo1e1Ro9t",
        "outputId": "09d9f88a-5232-4f8e-80b5-a8915955b10e"
      },
      "execution_count": 27,
      "outputs": [
        {
          "output_type": "stream",
          "name": "stdout",
          "text": [
            "counter 4187\n",
            "sleep 2 sec \n",
            "sleep 2 sec \n",
            "sleep 2 sec \n",
            "sleep 2 sec \n",
            "sleep 2 sec sleep 2 sec \n",
            "\n",
            "sleep 2 sec \n",
            "sleep 2 sec \n",
            "sleep 2 sec \n",
            "sleep 2 sec \n",
            "counter 4188\n",
            "counter 4189\n",
            "script finish 2.0120641510002315\n"
          ]
        }
      ]
    },
    {
      "cell_type": "code",
      "source": [
        "import concurrent\n"
      ],
      "metadata": {
        "id": "y_u30_UlXigD"
      },
      "execution_count": 24,
      "outputs": []
    },
    {
      "cell_type": "code",
      "source": [
        "start = time.perf_counter()\n",
        "with concurrent.futures.ThreadPoolExecutor() as executor:\n",
        "  results = [executor.submit(do_somthing,sec) for sec in range(1,10)]\n",
        "  for result in concurrent.futures.as_completed(results):\n",
        "    print(result.result())\n",
        "end = time.perf_counter()\n",
        "print(f\"script finish {end-start}\")"
      ],
      "metadata": {
        "colab": {
          "base_uri": "https://localhost:8080/"
        },
        "id": "tZaPntxFTb7S",
        "outputId": "d9427b7f-6ef1-46ff-96ff-28bee96ec9f2"
      },
      "execution_count": 29,
      "outputs": [
        {
          "output_type": "stream",
          "name": "stdout",
          "text": [
            "sleep 1 sec \n",
            "sleep 2 sec \n",
            "sleep 3 sec \n",
            "sleep 4 sec \n",
            "sleep 5 sec \n",
            "sleep 6 sec \n",
            "counter 4349\n",
            "sleep 7 sec finish fun 1\n",
            "\n",
            "counter 4350\n",
            "sleep 8 sec \n",
            "finish fun 2\n",
            "counter 4351\n",
            "sleep 9 sec \n",
            "finish fun 3\n",
            "counter 4352\n",
            "finish fun 4\n",
            "counter 4353\n",
            "finish fun 5\n",
            "counter 4354\n",
            "finish fun 6\n",
            "counter 4355\n",
            "counter 4356\n",
            "finish fun 7\n",
            "counter 4357\n",
            "counter 4358\n",
            "finish fun 8\n",
            "counter 4359\n",
            "counter 4360\n",
            "finish fun 9\n",
            "script finish 12.010727331000453\n"
          ]
        }
      ]
    },
    {
      "cell_type": "code",
      "source": [
        "start = time.perf_counter()\n",
        "with concurrent.futures.ThreadPoolExecutor() as executor:\n",
        "  results = executor.map(do_somthing,range(10,1,-1))\n",
        "  for result in results:\n",
        "    print(result)\n",
        "end = time.perf_counter()\n",
        "print(f\"script finish {end-start}\")"
      ],
      "metadata": {
        "colab": {
          "base_uri": "https://localhost:8080/"
        },
        "id": "Jp7NnentX2kx",
        "outputId": "997b2ce3-09b1-48a2-8d82-ae2d34eba67e"
      },
      "execution_count": 32,
      "outputs": [
        {
          "output_type": "stream",
          "name": "stdout",
          "text": [
            "sleep 10 sec \n",
            "sleep 9 sec \n",
            "sleep 8 sec \n",
            "sleep 7 sec \n",
            "sleep 6 sec sleep 5 sec \n",
            "\n",
            "counter 4582\n",
            "counter 4583\n",
            "counter 4584\n",
            "counter 4585\n",
            "counter 4586\n",
            "sleep 4 sec \n",
            "counter 4587\n",
            "sleep 3 sec \n",
            "counter 4588\n",
            "sleep 2 sec \n",
            "counter 4589\n",
            "counter 4590\n",
            "counter 4591\n",
            "finish fun 10\n",
            "finish fun 9\n",
            "finish fun 8\n",
            "finish fun 7\n",
            "finish fun 6\n",
            "finish fun 5\n",
            "finish fun 4\n",
            "finish fun 3\n",
            "finish fun 2\n",
            "script finish 10.011953883999922\n"
          ]
        }
      ]
    },
    {
      "cell_type": "markdown",
      "source": [
        "### real life example in normal way"
      ],
      "metadata": {
        "id": "nQmpwJNGbP3T"
      }
    },
    {
      "cell_type": "code",
      "source": [
        "img_urls = [\n",
        "    'https://images.unsplash.com/photo-1516117172878-fd2c41f4a759',\n",
        "    'https://images.unsplash.com/photo-1532009324734-20a7a5813719',\n",
        "    'https://images.unsplash.com/photo-1524429656589-6633a470097c',\n",
        "    'https://images.unsplash.com/photo-1530224264768-7ff8c1789d79',\n",
        "    'https://images.unsplash.com/photo-1564135624576-c5c88640f235',\n",
        "    'https://images.unsplash.com/photo-1541698444083-023c97d3f4b6',\n",
        "    'https://images.unsplash.com/photo-1522364723953-452d3431c267',\n",
        "    'https://images.unsplash.com/photo-1513938709626-033611b8cc03',\n",
        "    'https://images.unsplash.com/photo-1507143550189-fed454f93097',\n",
        "    'https://images.unsplash.com/photo-1493976040374-85c8e12f0c0e',\n",
        "    'https://images.unsplash.com/photo-1504198453319-5ce911bafcde',\n",
        "    'https://images.unsplash.com/photo-1530122037265-a5f1f91d3b99',\n",
        "    'https://images.unsplash.com/photo-1516972810927-80185027ca84',\n",
        "    'https://images.unsplash.com/photo-1550439062-609e1531270e',\n",
        "    'https://images.unsplash.com/photo-1549692520-acc6669e2f0c'\n",
        "]\n",
        "import requests\n",
        "def download_imgs():\n",
        "  for i,url in enumerate(img_urls*30):\n",
        "    con = requests.get(url).content\n",
        "    with open(f\"{i}.jpg\",\"wb\") as f:\n",
        "      f.write(con)"
      ],
      "metadata": {
        "id": "3iLG1WmhaZOz"
      },
      "execution_count": 37,
      "outputs": []
    },
    {
      "cell_type": "code",
      "source": [
        "start = time.perf_counter()\n",
        "download_imgs()\n",
        "end = time.perf_counter()\n",
        "print(f\"script finish {end-start}\")"
      ],
      "metadata": {
        "colab": {
          "base_uri": "https://localhost:8080/"
        },
        "id": "N-D3smfeb-6k",
        "outputId": "cb5e919c-b7e9-4873-fc54-626cb295bdd1"
      },
      "execution_count": 38,
      "outputs": [
        {
          "output_type": "stream",
          "name": "stdout",
          "text": [
            "counter 5228\n",
            "counter 5229\n",
            "counter 5230\n",
            "counter 5231\n",
            "counter 5232\n",
            "counter 5233\n",
            "counter 5234\n",
            "counter 5235\n",
            "counter 5236\n",
            "counter 5237\n",
            "counter 5238\n",
            "counter 5239\n",
            "counter 5240\n",
            "counter 5241\n",
            "counter 5242\n",
            "counter 5243\n",
            "counter 5244\n",
            "counter 5245\n",
            "counter 5246\n",
            "counter 5247\n",
            "counter 5248\n",
            "counter 5249\n",
            "counter 5250\n",
            "counter 5251\n",
            "counter 5252\n",
            "counter 5253\n",
            "counter 5254\n",
            "counter 5255\n",
            "counter 5256\n",
            "counter 5257\n",
            "counter 5258\n",
            "counter 5259\n",
            "counter 5260\n",
            "counter 5261\n",
            "counter 5262\n",
            "counter 5263\n",
            "counter 5264\n",
            "counter 5265\n",
            "counter 5266\n",
            "counter 5267\n",
            "counter 5268\n",
            "counter 5269\n",
            "counter 5270\n",
            "counter 5271\n",
            "counter 5272\n",
            "counter 5273\n",
            "counter 5274\n",
            "counter 5275\n",
            "counter 5276\n",
            "counter 5277\n",
            "counter 5278\n",
            "counter 5279\n",
            "counter 5280\n",
            "counter 5281\n",
            "counter 5282\n",
            "counter 5283\n",
            "counter 5284\n",
            "counter 5285\n",
            "counter 5286\n",
            "counter 5287\n",
            "counter 5288\n",
            "counter 5289\n",
            "counter 5290\n",
            "script finish 62.93097896299969\n"
          ]
        }
      ]
    },
    {
      "cell_type": "code",
      "source": [
        "import uuid\n",
        "def download_imgs_thread(url):\n",
        "  con = requests.get(url).content\n",
        "  with open(f\"{uuid.uuid1()}.jpg\",\"wb\") as f:\n",
        "    f.write(con)\n",
        "start = time.perf_counter()\n",
        "with concurrent.futures.ThreadPoolExecutor() as executor:\n",
        "  executor.map(download_imgs_thread,img_urls*30)\n",
        "end = time.perf_counter()\n",
        "print(f\"script finish {end-start}\")"
      ],
      "metadata": {
        "colab": {
          "base_uri": "https://localhost:8080/"
        },
        "id": "RB96ZMSCcAal",
        "outputId": "52bf0d10-e743-4fa4-dcea-3c15bf991a6e"
      },
      "execution_count": 40,
      "outputs": [
        {
          "output_type": "stream",
          "name": "stdout",
          "text": [
            "counter 5578\n",
            "counter 5579\n",
            "counter 5580\n",
            "counter 5581\n",
            "counter 5582\n",
            "counter 5583\n",
            "counter 5584\n",
            "counter 5585\n",
            "counter 5586\n",
            "counter 5587\n",
            "counter 5588\n",
            "counter 5589\n",
            "counter 5590\n",
            "counter 5591\n",
            "counter 5592\n",
            "counter 5593\n",
            "counter 5594\n",
            "counter 5595\n",
            "counter 5596\n",
            "counter 5597\n",
            "counter 5598\n",
            "counter 5599\n",
            "counter 5600\n",
            "counter 5601\n",
            "counter 5602\n",
            "counter 5603\n",
            "counter 5604\n",
            "counter 5605\n",
            "counter 5606\n",
            "counter 5607\n",
            "counter 5608\n",
            "counter 5609\n",
            "counter 5610\n",
            "counter 5611\n",
            "counter 5612\n",
            "counter 5613\n",
            "script finish 36.05035604499972\n"
          ]
        }
      ]
    },
    {
      "cell_type": "markdown",
      "source": [
        "## normal function take around 60s to download images\n",
        "\n",
        "\n",
        "## using thread  take around 36s to download images"
      ],
      "metadata": {
        "id": "ndQ9T1fPesVG"
      }
    },
    {
      "cell_type": "code",
      "source": [],
      "metadata": {
        "id": "9qXiO8usc6ma"
      },
      "execution_count": null,
      "outputs": []
    }
  ]
}